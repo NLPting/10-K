{
 "cells": [
  {
   "cell_type": "code",
   "execution_count": 1,
   "metadata": {},
   "outputs": [],
   "source": [
    "import csv\n",
    "import pandas as pd\n",
    "from flashtext import KeywordProcessor\n",
    "import glob\n",
    "keyword_processor = KeywordProcessor(case_sensitive=True)"
   ]
  },
  {
   "cell_type": "code",
   "execution_count": 20,
   "metadata": {},
   "outputs": [],
   "source": [
    "Sentence = [i for i in open('Raw_sentence.txt','r').readlines()]\n",
    "Entity = [i for i in pd.read_csv('flair.8.20.csv')['Entity']]\n",
    "for i in Entity:keyword_processor.add_keyword(i)"
   ]
  },
  {
   "cell_type": "code",
   "execution_count": 13,
   "metadata": {},
   "outputs": [
    {
     "data": {
      "text/plain": [
       "['xxxx/Broadcom/html/2014.html', 'xxxx/Broadcom/html/2014-2.html']"
      ]
     },
     "execution_count": 13,
     "metadata": {},
     "output_type": "execute_result"
    }
   ],
   "source": [
    "html_list = glob.glob('xxxx/Broadcom/html/2014*.html')\n",
    "html_list"
   ]
  },
  {
   "cell_type": "code",
   "execution_count": 14,
   "metadata": {},
   "outputs": [
    {
     "name": "stdout",
     "output_type": "stream",
     "text": [
      "Broadcom\n",
      "2014\n"
     ]
    }
   ],
   "source": [
    "Main_Company = html_list[0].split('/')[1]\n",
    "Year = html_list[0].split('/')[-1].split('-')[0].replace('.html','')\n",
    "print(Main_Company)\n",
    "print(Year)"
   ]
  },
  {
   "cell_type": "code",
   "execution_count": 17,
   "metadata": {},
   "outputs": [],
   "source": [
    "Tmp = []\n",
    "for s in Sentence:\n",
    "    Ent = keyword_processor.extract_keywords(s)\n",
    "    for e in Ent:\n",
    "        Tmp.append((s , Main_Company,e , Year))"
   ]
  },
  {
   "cell_type": "code",
   "execution_count": 19,
   "metadata": {},
   "outputs": [],
   "source": [
    "#Tmp[:5]"
   ]
  },
  {
   "cell_type": "code",
   "execution_count": null,
   "metadata": {},
   "outputs": [],
   "source": []
  }
 ],
 "metadata": {
  "kernelspec": {
   "display_name": "Python 3",
   "language": "python",
   "name": "python3"
  },
  "language_info": {
   "codemirror_mode": {
    "name": "ipython",
    "version": 3
   },
   "file_extension": ".py",
   "mimetype": "text/x-python",
   "name": "python",
   "nbconvert_exporter": "python",
   "pygments_lexer": "ipython3",
   "version": "3.6.5"
  }
 },
 "nbformat": 4,
 "nbformat_minor": 2
}
