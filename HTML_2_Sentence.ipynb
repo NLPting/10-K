{
 "cells": [
  {
   "cell_type": "code",
   "execution_count": 1,
   "metadata": {},
   "outputs": [],
   "source": [
    "import csv\n",
    "import pandas as pd\n",
    "from flashtext import KeywordProcessor\n",
    "import glob\n",
    "keyword_processor = KeywordProcessor(case_sensitive=True)"
   ]
  },
  {
   "cell_type": "code",
   "execution_count": 3,
   "metadata": {},
   "outputs": [],
   "source": [
    "Sentence = [i for i in open('Raw_sentence.txt','r').readlines()]"
   ]
  },
  {
   "cell_type": "code",
   "execution_count": 4,
   "metadata": {},
   "outputs": [],
   "source": [
    "df_e = pd.read_csv('flair.csv')\n",
    "df_e[:1]\n",
    "Ent = []\n",
    "for ent , label in zip(df_e['Entity'],df_e['islabel']):\n",
    "    if label == 1:\n",
    "        Ent.append(ent)\n",
    "Ent = [i.replace('LLC','').replace('Ltd','').replace('Inc','').replace(',','').replace('N.V','').replace('Co.','').replace('.','').strip() for i in Ent]"
   ]
  },
  {
   "cell_type": "code",
   "execution_count": 5,
   "metadata": {},
   "outputs": [],
   "source": [
    "for i in Ent:keyword_processor.add_keyword(i)"
   ]
  },
  {
   "cell_type": "code",
   "execution_count": 6,
   "metadata": {},
   "outputs": [
    {
     "data": {
      "text/plain": [
       "['xxxx/Broadcom/html/2014.html', 'xxxx/Broadcom/html/2014-2.html']"
      ]
     },
     "execution_count": 6,
     "metadata": {},
     "output_type": "execute_result"
    }
   ],
   "source": [
    "html_list = glob.glob('xxxx/Broadcom/html/2014*.html')\n",
    "html_list"
   ]
  },
  {
   "cell_type": "code",
   "execution_count": 7,
   "metadata": {},
   "outputs": [
    {
     "name": "stdout",
     "output_type": "stream",
     "text": [
      "Broadcom\n",
      "2014\n"
     ]
    }
   ],
   "source": [
    "Main_Company = html_list[0].split('/')[1]\n",
    "Year = html_list[0].split('/')[-1].split('-')[0].replace('.html','')\n",
    "print(Main_Company)\n",
    "print(Year)"
   ]
  },
  {
   "cell_type": "code",
   "execution_count": 8,
   "metadata": {},
   "outputs": [],
   "source": [
    "Tmp = []\n",
    "for s in Sentence:\n",
    "    Ent = keyword_processor.extract_keywords(s)\n",
    "    for e in Ent:\n",
    "        Tmp.append((s , Main_Company,e , Year))"
   ]
  },
  {
   "cell_type": "code",
   "execution_count": 10,
   "metadata": {},
   "outputs": [],
   "source": [
    "import csv\n",
    "with open('New_Train.csv','w') as f:\n",
    "    writer = csv.writer(f)\n",
    "    writer.writerows([('Sentence','Main','Secondary','Time','Label')])\n",
    "    writer.writerows(Tmp)"
   ]
  },
  {
   "cell_type": "code",
   "execution_count": 11,
   "metadata": {},
   "outputs": [
    {
     "data": {
      "text/plain": [
       "12715"
      ]
     },
     "execution_count": 11,
     "metadata": {},
     "output_type": "execute_result"
    }
   ],
   "source": [
    "len(Tmp)"
   ]
  }
 ],
 "metadata": {
  "kernelspec": {
   "display_name": "Python 3",
   "language": "python",
   "name": "python3"
  },
  "language_info": {
   "codemirror_mode": {
    "name": "ipython",
    "version": 3
   },
   "file_extension": ".py",
   "mimetype": "text/x-python",
   "name": "python",
   "nbconvert_exporter": "python",
   "pygments_lexer": "ipython3",
   "version": "3.6.5"
  }
 },
 "nbformat": 4,
 "nbformat_minor": 2
}
