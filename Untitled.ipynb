{
 "cells": [
  {
   "cell_type": "code",
   "execution_count": 1,
   "metadata": {},
   "outputs": [],
   "source": [
    "import csv\n",
    "import pandas as pd\n",
    "from flashtext import KeywordProcessor\n",
    "import glob\n",
    "keyword_processor = KeywordProcessor(case_sensitive=True)"
   ]
  },
  {
   "cell_type": "code",
   "execution_count": 2,
   "metadata": {},
   "outputs": [],
   "source": [
    "Sentence = [i for i in pd.read_csv('Train.csv')['Sentence']]\n",
    "Entity = [i for i in pd.read_csv('flair.14.csv')['Entity']]\n",
    "for i in Entity:keyword_processor.add_keyword(i)"
   ]
  },
  {
   "cell_type": "code",
   "execution_count": 3,
   "metadata": {},
   "outputs": [
    {
     "data": {
      "text/plain": [
       "['xxxx/Broadcom/html/2014.html', 'xxxx/Broadcom/html/2014-2.html']"
      ]
     },
     "execution_count": 3,
     "metadata": {},
     "output_type": "execute_result"
    }
   ],
   "source": [
    "html_list = glob.glob('xxxx/Broadcom/html/2014*.html')\n",
    "html_list"
   ]
  },
  {
   "cell_type": "code",
   "execution_count": 4,
   "metadata": {},
   "outputs": [
    {
     "name": "stdout",
     "output_type": "stream",
     "text": [
      "Broadcom\n",
      "2014\n"
     ]
    }
   ],
   "source": [
    "Main_Company = html_list[0].split('/')[1]\n",
    "Year = html_list[0].split('/')[-1].split('-')[0].replace('.html','')\n",
    "print(Main_Company)\n",
    "print(Year)"
   ]
  },
  {
   "cell_type": "code",
   "execution_count": 5,
   "metadata": {},
   "outputs": [],
   "source": [
    "Tmp = []\n",
    "for s in Sentence:\n",
    "    Ent = keyword_processor.extract_keywords(s)\n",
    "    for e in Ent:\n",
    "        Tmp.append((s , e , Main_Company , Year))"
   ]
  },
  {
   "cell_type": "code",
   "execution_count": 7,
   "metadata": {},
   "outputs": [
    {
     "data": {
      "text/plain": [
       "[('Intel could also take actions that place our discrete GPUs at a competitive disadvantage, including giving one or more of our competitors in the graphics market, such as Nvidia Corporation, preferential access to its proprietary graphics interface or other useful information.',\n",
       "  'Intel',\n",
       "  'Broadcom',\n",
       "  '2014'),\n",
       " ('Intel could also take actions that place our discrete GPUs at a competitive disadvantage, including giving one or more of our competitors in the graphics market, such as Nvidia Corporation, preferential access to its proprietary graphics interface or other useful information.',\n",
       "  'a',\n",
       "  'Broadcom',\n",
       "  '2014'),\n",
       " ('Intel could also take actions that place our discrete GPUs at a competitive disadvantage, including giving one or more of our competitors in the graphics market, such as Nvidia Corporation, preferential access to its proprietary graphics interface or other useful information.',\n",
       "  'Nvidia Corporation',\n",
       "  'Broadcom',\n",
       "  '2014'),\n",
       " ('We offer component-level graphics and chipset products to AIB manufacturers who in turn build and sell board-level products using our technology to system integrators, or SIs, and at retail.',\n",
       "  'AIB',\n",
       "  'Broadcom',\n",
       "  '2014'),\n",
       " ('During 2011, the IBM Parties collected approximately $396 million from our distributor customers pursuant to these arrangements.',\n",
       "  'IBM',\n",
       "  'Broadcom',\n",
       "  '2014')]"
      ]
     },
     "execution_count": 7,
     "metadata": {},
     "output_type": "execute_result"
    }
   ],
   "source": [
    "Tmp[:5]"
   ]
  },
  {
   "cell_type": "code",
   "execution_count": null,
   "metadata": {},
   "outputs": [],
   "source": []
  }
 ],
 "metadata": {
  "kernelspec": {
   "display_name": "Python 3",
   "language": "python",
   "name": "python3"
  },
  "language_info": {
   "codemirror_mode": {
    "name": "ipython",
    "version": 3
   },
   "file_extension": ".py",
   "mimetype": "text/x-python",
   "name": "python",
   "nbconvert_exporter": "python",
   "pygments_lexer": "ipython3",
   "version": "3.6.5"
  }
 },
 "nbformat": 4,
 "nbformat_minor": 2
}
