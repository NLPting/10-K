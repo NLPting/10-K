{
 "cells": [
  {
   "cell_type": "code",
   "execution_count": 9,
   "metadata": {},
   "outputs": [],
   "source": [
    "import glob"
   ]
  },
  {
   "cell_type": "code",
   "execution_count": 12,
   "metadata": {},
   "outputs": [],
   "source": [
    "html_list = glob.glob('xxxx/AMD/html/*.html')"
   ]
  },
  {
   "cell_type": "code",
   "execution_count": 13,
   "metadata": {},
   "outputs": [
    {
     "data": {
      "text/plain": [
       "['xxxx/AMD/html/2016-1.html',\n",
       " 'xxxx/AMD/html/2015-1.html',\n",
       " 'xxxx/AMD/html/2012-2.html',\n",
       " 'xxxx/AMD/html/2016-2.html',\n",
       " 'xxxx/AMD/html/2014-2.html',\n",
       " 'xxxx/AMD/html/2017-1.html',\n",
       " 'xxxx/AMD/html/2014-1.html',\n",
       " 'xxxx/AMD/html/2017-2.html',\n",
       " 'xxxx/AMD/html/2015-2.html',\n",
       " 'xxxx/AMD/html/2013-2.html',\n",
       " 'xxxx/AMD/html/2012-1.html',\n",
       " 'xxxx/AMD/html/2013-1.html']"
      ]
     },
     "execution_count": 13,
     "metadata": {},
     "output_type": "execute_result"
    }
   ],
   "source": [
    "html_list"
   ]
  },
  {
   "cell_type": "code",
   "execution_count": 16,
   "metadata": {},
   "outputs": [],
   "source": [
    "Total_sen = ['Apple','BBB']"
   ]
  },
  {
   "cell_type": "code",
   "execution_count": 17,
   "metadata": {},
   "outputs": [],
   "source": [
    "with open('Test.sentence.txt','w') as f:\n",
    "    for i in Total_sen:\n",
    "        f.write(i+'\\n')\n",
    "    f.close()"
   ]
  },
  {
   "cell_type": "code",
   "execution_count": 1,
   "metadata": {},
   "outputs": [],
   "source": [
    "from flair.file_utils import cached_path"
   ]
  },
  {
   "cell_type": "code",
   "execution_count": 3,
   "metadata": {},
   "outputs": [],
   "source": [
    "def load(model: str):\n",
    "    model_file = None\n",
    "    aws_resource_path = 'https://s3.eu-central-1.amazonaws.com/alan-nlp/resources/models-v0.2'\n",
    "    if model.lower() == 'ner-ontonotes':\n",
    "            base_path = '/'.join([aws_resource_path,\n",
    "                                  'NER-ontoner--h256-l1-b32-%2Bcrawl%2Bnews-forward%2Bnews-backward--v0.2',\n",
    "                                  'en-ner-ontonotes-v0.2.pt'])\n",
    "            print(base_path)\n",
    "            model_file = cached_path(base_path, cache_dir='models')"
   ]
  },
  {
   "cell_type": "code",
   "execution_count": 5,
   "metadata": {},
   "outputs": [
    {
     "name": "stdout",
     "output_type": "stream",
     "text": [
      "https://s3.eu-central-1.amazonaws.com/alan-nlp/resources/models-v0.2/NER-ontoner--h256-l1-b32-%2Bcrawl%2Bnews-forward%2Bnews-backward--v0.2/en-ner-ontonotes-v0.2.pt\n"
     ]
    }
   ],
   "source": [
    "load('ner-ontonotes')"
   ]
  },
  {
   "cell_type": "code",
   "execution_count": null,
   "metadata": {},
   "outputs": [],
   "source": []
  }
 ],
 "metadata": {
  "kernelspec": {
   "display_name": "Python 3",
   "language": "python",
   "name": "python3"
  },
  "language_info": {
   "codemirror_mode": {
    "name": "ipython",
    "version": 3
   },
   "file_extension": ".py",
   "mimetype": "text/x-python",
   "name": "python",
   "nbconvert_exporter": "python",
   "pygments_lexer": "ipython3",
   "version": "3.6.5"
  }
 },
 "nbformat": 4,
 "nbformat_minor": 2
}
